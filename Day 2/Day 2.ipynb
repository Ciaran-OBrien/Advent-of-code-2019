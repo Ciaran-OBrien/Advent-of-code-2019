{
 "cells": [
  {
   "cell_type": "markdown",
   "metadata": {},
   "source": [
    "# Part 1"
   ]
  },
  {
   "cell_type": "code",
   "execution_count": 1,
   "metadata": {},
   "outputs": [],
   "source": [
    "from itertools import islice"
   ]
  },
  {
   "cell_type": "code",
   "execution_count": 2,
   "metadata": {},
   "outputs": [],
   "source": [
    "data = open('day2.txt', 'r').read().split(',')\n",
    "data = list(map(int, data))"
   ]
  },
  {
   "cell_type": "code",
   "execution_count": 3,
   "metadata": {},
   "outputs": [],
   "source": [
    "test_data = [1,9,10,3,2,3,11,0,99,30,40,50]"
   ]
  },
  {
   "cell_type": "code",
   "execution_count": 28,
   "metadata": {
    "code_folding": []
   },
   "outputs": [],
   "source": [
    "def run_intcode(data_list):\n",
    "    #print(data_list)\n",
    "    data_list_ = iter(enumerate(data_list))\n",
    "    for index,element in data_list_:\n",
    "        if element == 1:\n",
    "            \n",
    "#             print(\"Values {},{} from index {},{} being added to index {}\".format(\n",
    "#                 data_list[data_list[index+1]],\n",
    "#                 data_list[data_list[index+2]],\n",
    "#                 data_list[index+1],\n",
    "#                 data_list[index+2],\n",
    "#                 data_list[index+3]))\n",
    "            \n",
    "            data_list[data_list[index+3]] = data_list[data_list[index+1]] + data_list[data_list[index+2]]\n",
    "            next(islice(data_list_, 3, 3), None)\n",
    "            continue\n",
    "        if element == 2:\n",
    "            \n",
    "#             print(\"Values {},{} form index {},{} being multiplied to index {}\".format(\n",
    "#                 data_list[data_list[index+1]],\n",
    "#                 data_list[data_list[index+2]],\n",
    "#                 data_list[index+1],\n",
    "#                 data_list[index+2],\n",
    "#                 data_list[index+3]))\n",
    "            \n",
    "            data_list[data_list[index+3]] = data_list[data_list[index+1]] * data_list[data_list[index+2]]\n",
    "            next(islice(data_list_, 3, 3), None)\n",
    "            continue\n",
    "        if element == 99:\n",
    "            #print(\"End of programme\")\n",
    "            break\n",
    "            \n",
    "        else:\n",
    "            next(islice(data_list_, 3, 3), None)\n",
    "            continue\n",
    "        \n",
    "            \n",
    "    return data_list"
   ]
  },
  {
   "cell_type": "code",
   "execution_count": 5,
   "metadata": {
    "code_folding": []
   },
   "outputs": [],
   "source": [
    "def init_state(data_list,first,second):\n",
    "    data_list[1] = first\n",
    "    data_list[2] = second\n",
    "    return data_list"
   ]
  },
  {
   "cell_type": "code",
   "execution_count": null,
   "metadata": {},
   "outputs": [],
   "source": [
    "run_intcode(test_data)"
   ]
  },
  {
   "cell_type": "code",
   "execution_count": 6,
   "metadata": {},
   "outputs": [
    {
     "name": "stdout",
     "output_type": "stream",
     "text": [
      "[1, 12, 2, 3, 1, 1, 2, 3, 1, 3, 4, 3, 1, 5, 0, 3, 2, 6, 1, 19, 2, 19, 13, 23, 1, 23, 10, 27, 1, 13, 27, 31, 2, 31, 10, 35, 1, 35, 9, 39, 1, 39, 13, 43, 1, 13, 43, 47, 1, 47, 13, 51, 1, 13, 51, 55, 1, 5, 55, 59, 2, 10, 59, 63, 1, 9, 63, 67, 1, 6, 67, 71, 2, 71, 13, 75, 2, 75, 13, 79, 1, 79, 9, 83, 2, 83, 10, 87, 1, 9, 87, 91, 1, 6, 91, 95, 1, 95, 10, 99, 1, 99, 13, 103, 1, 13, 103, 107, 2, 13, 107, 111, 1, 111, 9, 115, 2, 115, 10, 119, 1, 119, 5, 123, 1, 123, 2, 127, 1, 127, 5, 0, 99, 2, 14, 0, 0]\n",
      "Values 1,2 from index 12,2 being added to index 3\n",
      "Values 12,2 from index 1,2 being added to index 3\n",
      "Values 14,1 from index 3,4 being added to index 3\n",
      "Values 1,1 from index 5,0 being added to index 3\n",
      "Values 2,12 form index 6,1 being multiplied to index 19\n",
      "Values 24,5 form index 19,13 being multiplied to index 23\n",
      "Values 120,4 from index 23,10 being added to index 27\n",
      "Values 5,124 from index 13,27 being added to index 31\n",
      "Values 129,4 form index 31,10 being multiplied to index 35\n",
      "Values 516,3 from index 35,9 being added to index 39\n",
      "Values 519,5 from index 39,13 being added to index 43\n",
      "Values 5,524 from index 13,43 being added to index 47\n",
      "Values 529,5 from index 47,13 being added to index 51\n",
      "Values 5,534 from index 13,51 being added to index 55\n",
      "Values 1,539 from index 5,55 being added to index 59\n",
      "Values 4,540 form index 10,59 being multiplied to index 63\n",
      "Values 3,2160 from index 9,63 being added to index 67\n",
      "Values 2,2163 from index 6,67 being added to index 71\n",
      "Values 2165,5 form index 71,13 being multiplied to index 75\n",
      "Values 10825,5 form index 75,13 being multiplied to index 79\n",
      "Values 54125,3 from index 79,9 being added to index 83\n",
      "Values 54128,4 form index 83,10 being multiplied to index 87\n",
      "Values 3,216512 from index 9,87 being added to index 91\n",
      "Values 2,216515 from index 6,91 being added to index 95\n",
      "Values 216517,4 from index 95,10 being added to index 99\n",
      "Values 216521,5 from index 99,13 being added to index 103\n",
      "Values 5,216526 from index 13,103 being added to index 107\n",
      "Values 5,216531 form index 13,107 being multiplied to index 111\n",
      "Values 1082655,3 from index 111,9 being added to index 115\n",
      "Values 1082658,4 form index 115,10 being multiplied to index 119\n",
      "Values 4330632,1 from index 119,5 being added to index 123\n",
      "Values 4330633,2 from index 123,2 being added to index 127\n",
      "Values 4330635,1 from index 127,5 being added to index 0\n",
      "End of programme\n"
     ]
    }
   ],
   "source": [
    "res = run_intcode(init_state(data,12,2))"
   ]
  },
  {
   "cell_type": "code",
   "execution_count": 7,
   "metadata": {},
   "outputs": [
    {
     "data": {
      "text/plain": [
       "4330636"
      ]
     },
     "execution_count": 7,
     "metadata": {},
     "output_type": "execute_result"
    }
   ],
   "source": [
    "res[0]"
   ]
  },
  {
   "cell_type": "markdown",
   "metadata": {},
   "source": [
    "# Part 2"
   ]
  },
  {
   "cell_type": "code",
   "execution_count": null,
   "metadata": {},
   "outputs": [],
   "source": [
    "def get_noun_verb(data_list):\n",
    "    returning_result = []\n",
    "    data_list_ = iter(enumerate(data_list))\n",
    "    for index,elem in data_list_:\n",
    "        if elem == 99:\n",
    "            break\n",
    "        print(elem+data_list[index+1])\n",
    "        #returning_result.append((100*elem)+data_list[index+1])"
   ]
  },
  {
   "cell_type": "code",
   "execution_count": null,
   "metadata": {},
   "outputs": [],
   "source": [
    "get_noun_verb(init_state(data))"
   ]
  },
  {
   "cell_type": "code",
   "execution_count": null,
   "metadata": {},
   "outputs": [],
   "source": [
    "res_copy = res"
   ]
  },
  {
   "cell_type": "code",
   "execution_count": 29,
   "metadata": {},
   "outputs": [
    {
     "name": "stdout",
     "output_type": "stream",
     "text": [
      "Noun: 60 Verb: 86\n"
     ]
    }
   ],
   "source": [
    "res_list = []\n",
    "for i in range(0,137):\n",
    "    for j in range(0,137):\n",
    "        data = open('day2.txt', 'r').read().split(',')\n",
    "        data = list(map(int, data))\n",
    "        res = run_intcode(init_state(data,i,j))\n",
    "        res_list.append(res[0])\n",
    "        if(res[0] == 19690720):\n",
    "            print(\"Noun: {} Verb: {}\".format(i,j))"
   ]
  },
  {
   "cell_type": "code",
   "execution_count": 30,
   "metadata": {},
   "outputs": [
    {
     "data": {
      "text/plain": [
       "6086"
      ]
     },
     "execution_count": 30,
     "metadata": {},
     "output_type": "execute_result"
    }
   ],
   "source": [
    "(100 * 60) + 86"
   ]
  },
  {
   "cell_type": "code",
   "execution_count": null,
   "metadata": {},
   "outputs": [],
   "source": []
  }
 ],
 "metadata": {
  "kernelspec": {
   "display_name": "Python 3",
   "language": "python",
   "name": "python3"
  },
  "language_info": {
   "codemirror_mode": {
    "name": "ipython",
    "version": 3
   },
   "file_extension": ".py",
   "mimetype": "text/x-python",
   "name": "python",
   "nbconvert_exporter": "python",
   "pygments_lexer": "ipython3",
   "version": "3.6.8"
  }
 },
 "nbformat": 4,
 "nbformat_minor": 2
}
